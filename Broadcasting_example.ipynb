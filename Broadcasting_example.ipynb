{
  "nbformat": 4,
  "nbformat_minor": 0,
  "metadata": {
    "colab": {
      "provenance": [],
      "authorship_tag": "ABX9TyMe3xcWhX+EIZKyoLAOx7Ii",
      "include_colab_link": true
    },
    "kernelspec": {
      "name": "python3",
      "display_name": "Python 3"
    },
    "language_info": {
      "name": "python"
    }
  },
  "cells": [
    {
      "cell_type": "markdown",
      "metadata": {
        "id": "view-in-github",
        "colab_type": "text"
      },
      "source": [
        "<a href=\"https://colab.research.google.com/github/armandoordonez/deeplearning/blob/main/Broadcasting_example.ipynb\" target=\"_parent\"><img src=\"https://colab.research.google.com/assets/colab-badge.svg\" alt=\"Open In Colab\"/></a>"
      ]
    },
    {
      "cell_type": "code",
      "execution_count": 16,
      "metadata": {
        "colab": {
          "base_uri": "https://localhost:8080/"
        },
        "id": "e-igmitTeSpI",
        "outputId": "8156e816-9691-4185-db52-918dd6ea2e18"
      },
      "outputs": [
        {
          "output_type": "stream",
          "name": "stdout",
          "text": [
            "[[10.   0.   4.5 68. ]\n",
            " [30.   5.   4.5 68. ]\n",
            " [40.   4.   0.5 68. ]\n",
            " [20.   1.   0.5 67. ]]\n"
          ]
        }
      ],
      "source": [
        "import numpy as np\n",
        "\n",
        "A = np.array([[10.0,0.0,4.5,68.0],[30.0,5.0,4.5,68.0],[40.0,4.0,0.5,68.0],[20.0,1.0,0.5,67.0]])\n",
        "print (A)"
      ]
    },
    {
      "cell_type": "code",
      "source": [
        "suma = np.sum(A, axis=0)\n",
        "print(suma)"
      ],
      "metadata": {
        "colab": {
          "base_uri": "https://localhost:8080/"
        },
        "id": "-li3f4ibe3Kt",
        "outputId": "6b331551-0a29-4b99-d414-c56e17f714a3"
      },
      "execution_count": 17,
      "outputs": [
        {
          "output_type": "stream",
          "name": "stdout",
          "text": [
            "[100.  10.  10. 271.]\n"
          ]
        }
      ]
    },
    {
      "cell_type": "code",
      "source": [
        "print(A/suma)"
      ],
      "metadata": {
        "colab": {
          "base_uri": "https://localhost:8080/"
        },
        "id": "bJsqwPRpfW2N",
        "outputId": "63767a71-401a-41be-97ac-ddef888bd5bb"
      },
      "execution_count": 18,
      "outputs": [
        {
          "output_type": "stream",
          "name": "stdout",
          "text": [
            "[[0.1        0.         0.45       0.25092251]\n",
            " [0.3        0.5        0.45       0.25092251]\n",
            " [0.4        0.4        0.05       0.25092251]\n",
            " [0.2        0.1        0.05       0.24723247]]\n"
          ]
        }
      ]
    },
    {
      "cell_type": "code",
      "source": [],
      "metadata": {
        "id": "lYV_8XFOfbMu"
      },
      "execution_count": null,
      "outputs": []
    }
  ]
}