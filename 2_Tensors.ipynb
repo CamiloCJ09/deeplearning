{
  "nbformat": 4,
  "nbformat_minor": 0,
  "metadata": {
    "colab": {
      "provenance": [],
      "authorship_tag": "ABX9TyMbFisD09PnlUJZpsa/+Crw",
      "include_colab_link": true
    },
    "kernelspec": {
      "name": "python3",
      "display_name": "Python 3"
    },
    "language_info": {
      "name": "python"
    }
  },
  "cells": [
    {
      "cell_type": "markdown",
      "metadata": {
        "id": "view-in-github",
        "colab_type": "text"
      },
      "source": [
        "<a href=\"https://colab.research.google.com/github/armandoordonez/deeplearning/blob/main/2_Tensors.ipynb\" target=\"_parent\"><img src=\"https://colab.research.google.com/assets/colab-badge.svg\" alt=\"Open In Colab\"/></a>"
      ]
    },
    {
      "cell_type": "code",
      "execution_count": null,
      "metadata": {
        "id": "zf4d3EzwDxQV"
      },
      "outputs": [],
      "source": []
    },
    {
      "cell_type": "markdown",
      "source": [
        "Scalars (0D tensors)"
      ],
      "metadata": {
        "id": "OzaQva1TDxqD"
      }
    },
    {
      "cell_type": "code",
      "source": [
        "import numpy as np\n",
        "x = np.array(12)"
      ],
      "metadata": {
        "id": "A_PpT0SBDx-K"
      },
      "execution_count": 1,
      "outputs": []
    },
    {
      "cell_type": "code",
      "source": [
        "x"
      ],
      "metadata": {
        "colab": {
          "base_uri": "https://localhost:8080/"
        },
        "id": "5OjNFttmD4Wv",
        "outputId": "d0bad456-7bf8-4db0-b20f-8a452b36a8e7"
      },
      "execution_count": 2,
      "outputs": [
        {
          "output_type": "execute_result",
          "data": {
            "text/plain": [
              "array(12)"
            ]
          },
          "metadata": {},
          "execution_count": 2
        }
      ]
    },
    {
      "cell_type": "code",
      "source": [
        "x.ndim"
      ],
      "metadata": {
        "colab": {
          "base_uri": "https://localhost:8080/"
        },
        "id": "EvfO0w4dD6Nt",
        "outputId": "cb71bf48-f588-439f-b1b3-4de60e25f068"
      },
      "execution_count": 3,
      "outputs": [
        {
          "output_type": "execute_result",
          "data": {
            "text/plain": [
              "0"
            ]
          },
          "metadata": {},
          "execution_count": 3
        }
      ]
    },
    {
      "cell_type": "markdown",
      "source": [
        "Vectors (1D tensors)"
      ],
      "metadata": {
        "id": "qM4RL-CSD9YA"
      }
    },
    {
      "cell_type": "code",
      "source": [
        "x = np.array([12, 3, 6, 14])"
      ],
      "metadata": {
        "id": "gtiOmOKWD6fb"
      },
      "execution_count": 4,
      "outputs": []
    },
    {
      "cell_type": "code",
      "source": [
        "x"
      ],
      "metadata": {
        "colab": {
          "base_uri": "https://localhost:8080/"
        },
        "id": "B3YoLoC7ECsH",
        "outputId": "001b3e8f-badf-4457-fcdb-66be91bbbf56"
      },
      "execution_count": 5,
      "outputs": [
        {
          "output_type": "execute_result",
          "data": {
            "text/plain": [
              "array([12,  3,  6, 14])"
            ]
          },
          "metadata": {},
          "execution_count": 5
        }
      ]
    },
    {
      "cell_type": "code",
      "source": [
        "x.ndim\n",
        "# 5-dimensional vector.  A 5D vector has only one axis and has five dimensions along its axis,"
      ],
      "metadata": {
        "colab": {
          "base_uri": "https://localhost:8080/"
        },
        "id": "q5rBLjZuEDAG",
        "outputId": "c2605a5b-6402-40f9-9d83-869dde2c9dcb"
      },
      "execution_count": 6,
      "outputs": [
        {
          "output_type": "execute_result",
          "data": {
            "text/plain": [
              "1"
            ]
          },
          "metadata": {},
          "execution_count": 6
        }
      ]
    },
    {
      "cell_type": "markdown",
      "source": [
        "Matrices (2D tensors)"
      ],
      "metadata": {
        "id": "gnDFWmdsEabc"
      }
    },
    {
      "cell_type": "code",
      "source": [
        "x = np.array([[5, 78, 2, 34, 0],\n",
        "[6, 79, 3, 35, 1],\n",
        "[7, 80, 4, 36, 2]])"
      ],
      "metadata": {
        "id": "hb4BzlDoEEfX"
      },
      "execution_count": 7,
      "outputs": []
    },
    {
      "cell_type": "code",
      "source": [
        "x.ndim"
      ],
      "metadata": {
        "colab": {
          "base_uri": "https://localhost:8080/"
        },
        "id": "eM6QTL8dEeuI",
        "outputId": "2539ecbd-f1f1-47f3-e26f-f10086c95628"
      },
      "execution_count": 8,
      "outputs": [
        {
          "output_type": "execute_result",
          "data": {
            "text/plain": [
              "2"
            ]
          },
          "metadata": {},
          "execution_count": 8
        }
      ]
    },
    {
      "cell_type": "code",
      "source": [
        "x = np.array([[[5, 78, 2, 34, 0],\n",
        "[6, 79, 3, 35, 1],\n",
        "[7, 80, 4, 36, 2]],\n",
        "[[5, 78, 2, 34, 0],\n",
        "[6, 79, 3, 35, 1],\n",
        "[7, 80, 4, 36, 2]],\n",
        "[[5, 78, 2, 34, 0],\n",
        "[6, 79, 3, 35, 1],\n",
        "[7, 80, 4, 36, 2]]])"
      ],
      "metadata": {
        "id": "FUnYxntLEfzz"
      },
      "execution_count": 9,
      "outputs": []
    },
    {
      "cell_type": "code",
      "source": [
        "x.ndim"
      ],
      "metadata": {
        "colab": {
          "base_uri": "https://localhost:8080/"
        },
        "id": "SJOhWtxmEpHA",
        "outputId": "ae0aae56-75ad-4a9a-ee95-9d7267affa27"
      },
      "execution_count": 10,
      "outputs": [
        {
          "output_type": "execute_result",
          "data": {
            "text/plain": [
              "3"
            ]
          },
          "metadata": {},
          "execution_count": 10
        }
      ]
    },
    {
      "cell_type": "code",
      "source": [
        "from keras.datasets import mnist\n",
        "(train_images, train_labels), (test_images, test_labels) = mnist.load_data()"
      ],
      "metadata": {
        "colab": {
          "base_uri": "https://localhost:8080/"
        },
        "id": "A3_BlsdsEqyA",
        "outputId": "91924e02-48a5-4a43-f2b8-35d93256428d"
      },
      "execution_count": 11,
      "outputs": [
        {
          "output_type": "stream",
          "name": "stdout",
          "text": [
            "Downloading data from https://storage.googleapis.com/tensorflow/tf-keras-datasets/mnist.npz\n",
            "11490434/11490434 [==============================] - 1s 0us/step\n"
          ]
        }
      ]
    },
    {
      "cell_type": "code",
      "source": [
        "print(train_images.ndim)"
      ],
      "metadata": {
        "colab": {
          "base_uri": "https://localhost:8080/"
        },
        "id": "y4ZC4h_5Fb1o",
        "outputId": "cc92df2c-2c66-48c5-bb79-0e3169c76d0f"
      },
      "execution_count": 12,
      "outputs": [
        {
          "output_type": "stream",
          "name": "stdout",
          "text": [
            "3\n"
          ]
        }
      ]
    },
    {
      "cell_type": "code",
      "source": [
        "train_images.shape"
      ],
      "metadata": {
        "colab": {
          "base_uri": "https://localhost:8080/"
        },
        "id": "Rm5XteXuFfk-",
        "outputId": "d3398c92-02be-4137-ca75-4ccd975cf9fb"
      },
      "execution_count": 13,
      "outputs": [
        {
          "output_type": "execute_result",
          "data": {
            "text/plain": [
              "(60000, 28, 28)"
            ]
          },
          "metadata": {},
          "execution_count": 13
        }
      ]
    },
    {
      "cell_type": "code",
      "source": [
        "digit = train_images[4]\n",
        "\n",
        "import matplotlib.pyplot as plt\n",
        "\n",
        "plt.imshow(digit, cmap=plt.cm.binary)\n",
        "plt.show()"
      ],
      "metadata": {
        "colab": {
          "base_uri": "https://localhost:8080/",
          "height": 430
        },
        "id": "hZ__B1R1Ff5e",
        "outputId": "b5c3df90-17a6-4928-8bb0-9ce10f352f7e"
      },
      "execution_count": 14,
      "outputs": [
        {
          "output_type": "display_data",
          "data": {
            "text/plain": [
              "<Figure size 640x480 with 1 Axes>"
            ],
            "image/png": "[encoded data removed]"
          },
          "metadata": {}
        }
      ]
    },
    {
      "cell_type": "code",
      "source": [
        "my_slice = train_images[10:100]\n",
        "print(my_slice.shape)"
      ],
      "metadata": {
        "colab": {
          "base_uri": "https://localhost:8080/"
        },
        "id": "dGwCw34DFkum",
        "outputId": "51af5bcb-0cf7-4d19-ba63-f872d4409e5c"
      },
      "execution_count": 15,
      "outputs": [
        {
          "output_type": "stream",
          "name": "stdout",
          "text": [
            "(90, 28, 28)\n"
          ]
        }
      ]
    },
    {
      "cell_type": "code",
      "source": [
        "my_slice = train_images[10:100, :, :] # Igual al anterior\n",
        "my_slice.shape\n"
      ],
      "metadata": {
        "colab": {
          "base_uri": "https://localhost:8080/"
        },
        "id": "436tFpVAFvfJ",
        "outputId": "98e9c272-2eac-437a-9bd0-5885cc70c9b3"
      },
      "execution_count": 17,
      "outputs": [
        {
          "output_type": "execute_result",
          "data": {
            "text/plain": [
              "(90, 28, 28)"
            ]
          },
          "metadata": {},
          "execution_count": 17
        }
      ]
    },
    {
      "cell_type": "code",
      "source": [
        "my_slice = train_images[10:100, 0:28, 0:28] # Igual al anterior\n",
        "my_slice.shape"
      ],
      "metadata": {
        "colab": {
          "base_uri": "https://localhost:8080/"
        },
        "id": "YqssL5tGF3mi",
        "outputId": "5e09cdb4-5731-40e9-ce67-aeb21284245a"
      },
      "execution_count": 18,
      "outputs": [
        {
          "output_type": "execute_result",
          "data": {
            "text/plain": [
              "(90, 28, 28)"
            ]
          },
          "metadata": {},
          "execution_count": 18
        }
      ]
    },
    {
      "cell_type": "markdown",
      "source": [
        "14 × 14 pixels in the bottom-right corner of all images, you\n",
        "do this:"
      ],
      "metadata": {
        "id": "bgVSTZrRGE4L"
      }
    },
    {
      "cell_type": "code",
      "source": [
        "my_slice = train_images[:, 14:, 14:]"
      ],
      "metadata": {
        "id": "AXVjBLX2F6kf"
      },
      "execution_count": 19,
      "outputs": []
    },
    {
      "cell_type": "markdown",
      "source": [
        "indicate a position relative to the end of the current axis. In order to crop the images to patches of 14 × 14 pixels centered in the middle, you do this"
      ],
      "metadata": {
        "id": "89hJaWTTGPEU"
      }
    },
    {
      "cell_type": "code",
      "source": [
        "my_slice = train_images[:, 7:-7, 7:-7]"
      ],
      "metadata": {
        "id": "RlVGZWtXGHIL"
      },
      "execution_count": 20,
      "outputs": []
    },
    {
      "cell_type": "code",
      "source": [
        "batch = train_images[:128] # Batch 1"
      ],
      "metadata": {
        "id": "IZ5-wUbtGQDa"
      },
      "execution_count": 21,
      "outputs": []
    },
    {
      "cell_type": "code",
      "source": [
        "batch = train_images[128:256] # Batch 2 batchN = train_images[128 * n:128 * (n + 1)] (axis 0) is called the batch axis or batch dimension."
      ],
      "metadata": {
        "id": "OByqymiJGZag"
      },
      "execution_count": null,
      "outputs": []
    },
    {
      "cell_type": "code",
      "source": [
        "def naive_relu(x):\n",
        "  assert len(x.shape) == 2\n",
        "  x = x.copy()\n",
        "  for i in range(x.shape[0]):\n",
        "    for j in range(x.shape[1]):\n",
        "      x[i, j] = max(x[i, j], 0)\n",
        "      return x"
      ],
      "metadata": {
        "id": "C-XvEqXGLGY9"
      },
      "execution_count": 23,
      "outputs": []
    },
    {
      "cell_type": "code",
      "source": [
        "def naive_add(x, y):\n",
        "  assert len(x.shape) == 2\n",
        "  assert x.shape == y.shape\n",
        "  x = x.copy()\n",
        "  for i in range(x.shape[0]):\n",
        "    for j in range(x.shape[1]):\n",
        "      x[i, j] += y[i, j]\n",
        "      return x"
      ],
      "metadata": {
        "id": "CEGxKKroLGc7"
      },
      "execution_count": 24,
      "outputs": []
    },
    {
      "cell_type": "code",
      "source": [
        "import numpy as np\n",
        "\n",
        "x = np.array([12, 3, 6, 14])\n",
        "y = np.array([2, 3, 6, 14])\n",
        "\n",
        "\n",
        "z = x + y\n",
        "z = np.maximum(z, 0.)\n",
        "z"
      ],
      "metadata": {
        "id": "L0rj_QmfLGhK",
        "outputId": "b8bb640d-9de3-460c-fa27-379381bc6bb0",
        "colab": {
          "base_uri": "https://localhost:8080/"
        }
      },
      "execution_count": 27,
      "outputs": [
        {
          "output_type": "execute_result",
          "data": {
            "text/plain": [
              "array([14.,  6., 12., 28.])"
            ]
          },
          "metadata": {},
          "execution_count": 27
        }
      ]
    },
    {
      "cell_type": "markdown",
      "source": [
        "Broadcast"
      ],
      "metadata": {
        "id": "k0_TcaETM8Gt"
      }
    },
    {
      "cell_type": "code",
      "source": [
        "import numpy as np\n",
        "x = np.random.random((64, 3, 32, 10))\n",
        "y = np.random.random((32, 10))\n",
        "z = np.maximum(x, y)\n",
        "z"
      ],
      "metadata": {
        "id": "G5x4BlOzLew6",
        "outputId": "408f9c6c-ec32-488e-985a-d4b5e5ed82e7",
        "colab": {
          "base_uri": "https://localhost:8080/"
        }
      },
      "execution_count": 29,
      "outputs": [
        {
          "output_type": "execute_result",
          "data": {
            "text/plain": [
              "array([[[[0.80475788, 0.82645142, 0.82325781, ..., 0.7877598 ,\n",
              "          0.93988514, 0.65355641],\n",
              "         [0.82285094, 0.49772176, 0.73939523, ..., 0.88992546,\n",
              "          0.96410314, 0.9321546 ],\n",
              "         [0.76202948, 0.16804593, 0.55871487, ..., 0.43073259,\n",
              "          0.62413267, 0.66077536],\n",
              "         ...,\n",
              "         [0.45682983, 0.56738812, 0.49987418, ..., 0.60412639,\n",
              "          0.97042384, 0.95941579],\n",
              "         [0.97635479, 0.6788975 , 0.55313065, ..., 0.4657338 ,\n",
              "          0.25324215, 0.55721074],\n",
              "         [0.1152025 , 0.99113001, 0.4528694 , ..., 0.86067623,\n",
              "          0.9034371 , 0.85080946]],\n",
              "\n",
              "        [[0.80475788, 0.82645142, 0.82325781, ..., 0.5948998 ,\n",
              "          0.31950152, 0.65355641],\n",
              "         [0.84400901, 0.99413922, 0.72104217, ..., 0.88992546,\n",
              "          0.80371156, 0.9321546 ],\n",
              "         [0.76202948, 0.2093716 , 0.78544443, ..., 0.41038601,\n",
              "          0.38843429, 0.66077536],\n",
              "         ...,\n",
              "         [0.50197915, 0.74219669, 0.49987418, ..., 0.66751912,\n",
              "          0.1484128 , 0.52404352],\n",
              "         [0.93977224, 0.6788975 , 0.55313065, ..., 0.88737771,\n",
              "          0.09668623, 0.15821705],\n",
              "         [0.1152025 , 0.99113001, 0.4528694 , ..., 0.79347382,\n",
              "          0.50487511, 0.53546163]],\n",
              "\n",
              "        [[0.80475788, 0.82645142, 0.82325781, ..., 0.0930886 ,\n",
              "          0.2931067 , 0.65355641],\n",
              "         [0.18650769, 0.64964072, 0.41481486, ..., 0.88992546,\n",
              "          0.88481997, 0.9321546 ],\n",
              "         [0.76202948, 0.15735723, 0.55871487, ..., 0.41038601,\n",
              "          0.27078438, 0.78671572],\n",
              "         ...,\n",
              "         [0.54192035, 0.60463065, 0.60238284, ..., 0.48877264,\n",
              "          0.16655159, 0.49626527],\n",
              "         [0.93977224, 0.6788975 , 0.55313065, ..., 0.88063862,\n",
              "          0.43104   , 0.49284357],\n",
              "         [0.33331624, 0.99113001, 0.4528694 , ..., 0.79347382,\n",
              "          0.97445138, 0.65684366]]],\n",
              "\n",
              "\n",
              "       [[[0.88754537, 0.82848705, 0.82325781, ..., 0.19338383,\n",
              "          0.65264811, 0.82385796],\n",
              "         [0.78110879, 0.96579823, 0.55425736, ..., 0.88992546,\n",
              "          0.62018581, 0.9321546 ],\n",
              "         [0.76202948, 0.30731865, 0.94805063, ..., 0.96721475,\n",
              "          0.34313024, 0.72533074],\n",
              "         ...,\n",
              "         [0.22218782, 0.56738812, 0.49987418, ..., 0.48877264,\n",
              "          0.30497177, 0.75674153],\n",
              "         [0.93977224, 0.6788975 , 0.67701853, ..., 0.29088173,\n",
              "          0.25353618, 0.51206874],\n",
              "         [0.84649903, 0.99113001, 0.81461438, ..., 0.87212193,\n",
              "          0.50487511, 0.53546163]],\n",
              "\n",
              "        [[0.93240434, 0.82645142, 0.82325781, ..., 0.87597743,\n",
              "          0.2931067 , 0.65355641],\n",
              "         [0.55952075, 0.49772176, 0.43121799, ..., 0.88992546,\n",
              "          0.48347721, 0.9321546 ],\n",
              "         [0.85761962, 0.46329974, 0.88383301, ..., 0.67155514,\n",
              "          0.27078438, 0.66077536],\n",
              "         ...,\n",
              "         [0.40667059, 0.6406377 , 0.70511953, ..., 0.90453305,\n",
              "          0.3878717 , 0.81671518],\n",
              "         [0.93977224, 0.78233369, 0.55313065, ..., 0.56651471,\n",
              "          0.71505984, 0.07960123],\n",
              "         [0.94282079, 0.99113001, 0.4528694 , ..., 0.79347382,\n",
              "          0.50487511, 0.64950534]],\n",
              "\n",
              "        [[0.80475788, 0.82645142, 0.82325781, ..., 0.77690466,\n",
              "          0.31981131, 0.65355641],\n",
              "         [0.2510968 , 0.49772176, 0.22249285, ..., 0.90856042,\n",
              "          0.48347721, 0.9321546 ],\n",
              "         [0.76202948, 0.77208811, 0.55871487, ..., 0.68931688,\n",
              "          0.30992822, 0.83209551],\n",
              "         ...,\n",
              "         [0.78066751, 0.73561582, 0.66373888, ..., 0.48877264,\n",
              "          0.10425188, 0.6802186 ],\n",
              "         [0.93977224, 0.6788975 , 0.55313065, ..., 0.36050717,\n",
              "          0.82120008, 0.05469171],\n",
              "         [0.1152025 , 0.99113001, 0.4528694 , ..., 0.84376106,\n",
              "          0.98759268, 0.62097919]]],\n",
              "\n",
              "\n",
              "       [[[0.87817961, 0.82645142, 0.82325781, ..., 0.24005761,\n",
              "          0.2931067 , 0.80380573],\n",
              "         [0.51415275, 0.6875378 , 0.95372686, ..., 0.88992546,\n",
              "          0.48347721, 0.9321546 ],\n",
              "         [0.76202948, 0.99269215, 0.85189899, ..., 0.41038601,\n",
              "          0.88710162, 0.66077536],\n",
              "         ...,\n",
              "         [0.340443  , 0.56738812, 0.49987418, ..., 0.70182695,\n",
              "          0.87526513, 0.45831588],\n",
              "         [0.93977224, 0.6788975 , 0.55313065, ..., 0.25100727,\n",
              "          0.5969888 , 0.40425724],\n",
              "         [0.81105206, 0.99113001, 0.4528694 , ..., 0.89911788,\n",
              "          0.50487511, 0.53546163]],\n",
              "\n",
              "        [[0.80475788, 0.82645142, 0.82325781, ..., 0.92361912,\n",
              "          0.2931067 , 0.65355641],\n",
              "         [0.39407148, 0.5145197 , 0.54522224, ..., 0.88992546,\n",
              "          0.48347721, 0.9321546 ],\n",
              "         [0.79108265, 0.92670286, 0.55871487, ..., 0.74056294,\n",
              "          0.27078438, 0.66077536],\n",
              "         ...,\n",
              "         [0.86690265, 0.92784498, 0.93667032, ..., 0.48877264,\n",
              "          0.30789681, 0.62021766],\n",
              "         [0.93977224, 0.6788975 , 0.55313065, ..., 0.92334617,\n",
              "          0.14651149, 0.05408955],\n",
              "         [0.48690094, 0.99113001, 0.4528694 , ..., 0.99373296,\n",
              "          0.50487511, 0.60730209]],\n",
              "\n",
              "        [[0.80475788, 0.82645142, 0.82325781, ..., 0.35098272,\n",
              "          0.52909467, 0.65355641],\n",
              "         [0.67689725, 0.49772176, 0.75576108, ..., 0.88992546,\n",
              "          0.48347721, 0.9321546 ],\n",
              "         [0.76202948, 0.16771616, 0.55871487, ..., 0.65812021,\n",
              "          0.75657784, 0.66077536],\n",
              "         ...,\n",
              "         [0.25374946, 0.56738812, 0.51646479, ..., 0.48877264,\n",
              "          0.84614576, 0.98510183],\n",
              "         [0.93977224, 0.6788975 , 0.85529501, ..., 0.87377256,\n",
              "          0.30848384, 0.72621165],\n",
              "         [0.16896542, 0.99113001, 0.4528694 , ..., 0.79347382,\n",
              "          0.66608206, 0.80201392]]],\n",
              "\n",
              "\n",
              "       ...,\n",
              "\n",
              "\n",
              "       [[[0.80475788, 0.82645142, 0.82325781, ..., 0.53362977,\n",
              "          0.94026329, 0.99424404],\n",
              "         [0.23231256, 0.94742546, 0.39084194, ..., 0.94801607,\n",
              "          0.48347721, 0.9321546 ],\n",
              "         [0.76202948, 0.55307262, 0.65483392, ..., 0.45519907,\n",
              "          0.27078438, 0.66077536],\n",
              "         ...,\n",
              "         [0.93849079, 0.79853097, 0.62778485, ..., 0.48877264,\n",
              "          0.81490061, 0.68047549],\n",
              "         [0.93977224, 0.6788975 , 0.55313065, ..., 0.25100727,\n",
              "          0.79103425, 0.46278364],\n",
              "         [0.57501724, 0.99113001, 0.56432171, ..., 0.79347382,\n",
              "          0.50487511, 0.89761484]],\n",
              "\n",
              "        [[0.856613  , 0.82645142, 0.82325781, ..., 0.74497356,\n",
              "          0.2931067 , 0.92856442],\n",
              "         [0.86414649, 0.49772176, 0.45870113, ..., 0.94058402,\n",
              "          0.48347721, 0.9321546 ],\n",
              "         [0.76202948, 0.89964734, 0.55871487, ..., 0.61664296,\n",
              "          0.27078438, 0.66077536],\n",
              "         ...,\n",
              "         [0.57583945, 0.70964807, 0.49987418, ..., 0.77400191,\n",
              "          0.27830461, 0.32950304],\n",
              "         [0.95130064, 0.88956945, 0.55313065, ..., 0.31782929,\n",
              "          0.38753598, 0.05824955],\n",
              "         [0.57099884, 0.99113001, 0.82267528, ..., 0.79347382,\n",
              "          0.50487511, 0.64142378]],\n",
              "\n",
              "        [[0.84753449, 0.82645142, 0.82325781, ..., 0.97796304,\n",
              "          0.2931067 , 0.65355641],\n",
              "         [0.26673282, 0.6283295 , 0.86284386, ..., 0.88992546,\n",
              "          0.93189143, 0.9321546 ],\n",
              "         [0.76202948, 0.57793023, 0.60842192, ..., 0.41038601,\n",
              "          0.7546191 , 0.66827049],\n",
              "         ...,\n",
              "         [0.75175735, 0.56738812, 0.77475735, ..., 0.63190585,\n",
              "          0.10425188, 0.64102005],\n",
              "         [0.93977224, 0.84532933, 0.55313065, ..., 0.25100727,\n",
              "          0.35694149, 0.44840204],\n",
              "         [0.1152025 , 0.99113001, 0.4528694 , ..., 0.79347382,\n",
              "          0.50487511, 0.53546163]]],\n",
              "\n",
              "\n",
              "       [[[0.80475788, 0.82645142, 0.82325781, ..., 0.19657563,\n",
              "          0.58482057, 0.66200874],\n",
              "         [0.44509966, 0.73293077, 0.65236079, ..., 0.91589581,\n",
              "          0.51807366, 0.9321546 ],\n",
              "         [0.76202948, 0.65677492, 0.55871487, ..., 0.92572205,\n",
              "          0.27078438, 0.66077536],\n",
              "         ...,\n",
              "         [0.22218782, 0.87060576, 0.49987418, ..., 0.6307437 ,\n",
              "          0.12722118, 0.32950304],\n",
              "         [0.93977224, 0.6788975 , 0.55313065, ..., 0.63116702,\n",
              "          0.48792149, 0.2228247 ],\n",
              "         [0.59826842, 0.99113001, 0.93455747, ..., 0.79347382,\n",
              "          0.5610193 , 0.77600764]],\n",
              "\n",
              "        [[0.80475788, 0.82645142, 0.82325781, ..., 0.61679429,\n",
              "          0.2931067 , 0.65355641],\n",
              "         [0.85304302, 0.49772176, 0.50509523, ..., 0.88992546,\n",
              "          0.48347721, 0.9321546 ],\n",
              "         [0.76202948, 0.70567025, 0.67929034, ..., 0.97099449,\n",
              "          0.51405596, 0.66077536],\n",
              "         ...,\n",
              "         [0.32126151, 0.56738812, 0.49987418, ..., 0.48877264,\n",
              "          0.85752105, 0.71154506],\n",
              "         [0.93977224, 0.6788975 , 0.92762173, ..., 0.25100727,\n",
              "          0.29069316, 0.56177254],\n",
              "         [0.67367565, 0.99113001, 0.4528694 , ..., 0.79347382,\n",
              "          0.50487511, 0.53546163]],\n",
              "\n",
              "        [[0.80475788, 0.82645142, 0.82325781, ..., 0.35302737,\n",
              "          0.30343353, 0.65355641],\n",
              "         [0.20048784, 0.76901957, 0.71572629, ..., 0.88992546,\n",
              "          0.93268943, 0.9321546 ],\n",
              "         [0.76202948, 0.19618632, 0.55871487, ..., 0.54862263,\n",
              "          0.31813199, 0.9177359 ],\n",
              "         ...,\n",
              "         [0.7417947 , 0.65012143, 0.49987418, ..., 0.48877264,\n",
              "          0.92056315, 0.79272586],\n",
              "         [0.99530015, 0.6788975 , 0.71322872, ..., 0.61932868,\n",
              "          0.61094273, 0.24738555],\n",
              "         [0.81093801, 0.99113001, 0.59979991, ..., 0.79347382,\n",
              "          0.50487511, 0.88261135]]],\n",
              "\n",
              "\n",
              "       [[[0.99539669, 0.82645142, 0.82325781, ..., 0.9565292 ,\n",
              "          0.70556698, 0.76052973],\n",
              "         [0.18764013, 0.49772176, 0.51022352, ..., 0.88992546,\n",
              "          0.48347721, 0.9321546 ],\n",
              "         [0.76202948, 0.14222481, 0.55871487, ..., 0.96514689,\n",
              "          0.2948758 , 0.66077536],\n",
              "         ...,\n",
              "         [0.33280165, 0.56738812, 0.98703569, ..., 0.48877264,\n",
              "          0.56199665, 0.40060682],\n",
              "         [0.93977224, 0.71449121, 0.55313065, ..., 0.48085429,\n",
              "          0.3805368 , 0.0589877 ],\n",
              "         [0.6694663 , 0.99113001, 0.90108259, ..., 0.79347382,\n",
              "          0.94369283, 0.53546163]],\n",
              "\n",
              "        [[0.90356693, 0.82645142, 0.82325781, ..., 0.0930886 ,\n",
              "          0.94127474, 0.77905192],\n",
              "         [0.18650769, 0.49772176, 0.48559383, ..., 0.88992546,\n",
              "          0.48347721, 0.9321546 ],\n",
              "         [0.82725481, 0.61160119, 0.78855024, ..., 0.41038601,\n",
              "          0.60122793, 0.66077536],\n",
              "         ...,\n",
              "         [0.27354775, 0.76513568, 0.51708346, ..., 0.62199422,\n",
              "          0.86439727, 0.32950304],\n",
              "         [0.93977224, 0.6788975 , 0.55313065, ..., 0.37870936,\n",
              "          0.75474811, 0.14542388],\n",
              "         [0.930256  , 0.99113001, 0.51284358, ..., 0.79347382,\n",
              "          0.7955743 , 0.53546163]],\n",
              "\n",
              "        [[0.88427927, 0.82645142, 0.82325781, ..., 0.5828895 ,\n",
              "          0.7391701 , 0.65355641],\n",
              "         [0.50135621, 0.49772176, 0.71085183, ..., 0.9823566 ,\n",
              "          0.60152375, 0.96215104],\n",
              "         [0.76202948, 0.70474498, 0.63980271, ..., 0.49219726,\n",
              "          0.736679  , 0.93369578],\n",
              "         ...,\n",
              "         [0.96537287, 0.56738812, 0.9468569 , ..., 0.51563117,\n",
              "          0.63461292, 0.32950304],\n",
              "         [0.93977224, 0.6788975 , 0.55313065, ..., 0.6247071 ,\n",
              "          0.88362289, 0.47043916],\n",
              "         [0.66105161, 0.99113001, 0.4528694 , ..., 0.79347382,\n",
              "          0.50487511, 0.58865489]]]])"
            ]
          },
          "metadata": {},
          "execution_count": 29
        }
      ]
    },
    {
      "cell_type": "markdown",
      "source": [
        "Reshape"
      ],
      "metadata": {
        "id": "CHpRahNYOzwI"
      }
    },
    {
      "cell_type": "code",
      "source": [
        "x= np.array([[0., 1.],\n",
        "[2., 3.],\n",
        "[4., 5.]])\n",
        "print(x.shape)"
      ],
      "metadata": {
        "id": "UmRn8vYUM9rZ",
        "outputId": "0790e292-8e6e-4362-c140-93cbb7b76bd5",
        "colab": {
          "base_uri": "https://localhost:8080/"
        }
      },
      "execution_count": 30,
      "outputs": [
        {
          "output_type": "stream",
          "name": "stdout",
          "text": [
            "(3, 2)\n"
          ]
        }
      ]
    },
    {
      "cell_type": "code",
      "source": [
        "x = x.reshape((6, 1))\n",
        "x"
      ],
      "metadata": {
        "id": "n5uEiPxiO7v9",
        "outputId": "0088106e-3b5c-426f-d0a3-b5d2f0a19f8c",
        "colab": {
          "base_uri": "https://localhost:8080/"
        }
      },
      "execution_count": 31,
      "outputs": [
        {
          "output_type": "execute_result",
          "data": {
            "text/plain": [
              "array([[0.],\n",
              "       [1.],\n",
              "       [2.],\n",
              "       [3.],\n",
              "       [4.],\n",
              "       [5.]])"
            ]
          },
          "metadata": {},
          "execution_count": 31
        }
      ]
    },
    {
      "cell_type": "code",
      "source": [
        "x = x.reshape((2, 3))\n",
        "x\n"
      ],
      "metadata": {
        "id": "qrwvFynGPGg8",
        "outputId": "b05d8733-18f6-4400-da75-385364e9fba9",
        "colab": {
          "base_uri": "https://localhost:8080/"
        }
      },
      "execution_count": 32,
      "outputs": [
        {
          "output_type": "execute_result",
          "data": {
            "text/plain": [
              "array([[0., 1., 2.],\n",
              "       [3., 4., 5.]])"
            ]
          },
          "metadata": {},
          "execution_count": 32
        }
      ]
    },
    {
      "cell_type": "code",
      "source": [
        "#Transpose\n",
        "\n",
        "x = np.zeros((300, 20))\n",
        "x = np.transpose(x)\n",
        "print(x.shape)"
      ],
      "metadata": {
        "id": "c02yM2JWPKP6",
        "outputId": "df34b654-c87c-487e-80c9-90f7418eb93f",
        "colab": {
          "base_uri": "https://localhost:8080/"
        }
      },
      "execution_count": 33,
      "outputs": [
        {
          "output_type": "stream",
          "name": "stdout",
          "text": [
            "(20, 300)\n"
          ]
        }
      ]
    },
    {
      "cell_type": "code",
      "source": [],
      "metadata": {
        "id": "o_msC-oMPTFQ"
      },
      "execution_count": null,
      "outputs": []
    }
  ]
}